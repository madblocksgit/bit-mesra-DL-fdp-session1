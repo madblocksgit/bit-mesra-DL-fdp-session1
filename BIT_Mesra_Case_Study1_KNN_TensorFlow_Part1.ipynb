{
  "nbformat": 4,
  "nbformat_minor": 0,
  "metadata": {
    "colab": {
      "name": "BIT Mesra_Case_Study1_KNN_TensorFlow_Part1.ipynb",
      "provenance": []
    },
    "kernelspec": {
      "name": "python3",
      "display_name": "Python 3"
    }
  },
  "cells": [
    {
      "cell_type": "markdown",
      "metadata": {
        "id": "tY5cOqAu09WL"
      },
      "source": [
        "# Dataset \n",
        "\n",
        "This case study involves an IoT Sensory dataset which helps the farmers to understand what kind of crop can be yielded. \n",
        "\n",
        "This dataset involves sensory data uploaded by **IoT devices** deployed on the agricultural field and following **parameters** are included:\n",
        "\n",
        "1.   Temperature\n",
        "2.   Humidity\n",
        "3.   pH \n",
        "4.   Rainfall\n",
        "\n",
        "By using KNN Machine Learning Implementation on TensorFlow, the idea of this case-study is to suggest the kind of crop can be yielded.\n",
        "\n",
        "You can download the dataset from [link text](https://github.com/madblocksgit/)"
      ]
    },
    {
      "cell_type": "markdown",
      "metadata": {
        "id": "MY4Q-Rn64zJe"
      },
      "source": [
        "#Step - 1\n",
        "\n",
        "Read the data from the github using the link"
      ]
    },
    {
      "cell_type": "code",
      "metadata": {
        "id": "iTB_uWfk0l95"
      },
      "source": [
        "# Use read_csv method from pandas and read the data"
      ],
      "execution_count": 1,
      "outputs": []
    },
    {
      "cell_type": "markdown",
      "metadata": {
        "id": "tzM3UrQ0624i"
      },
      "source": [
        "# Step - 2\n",
        "\n",
        "As the labels in the data were duplicated, make them into seperate columns and load with zeros, ones accordingly"
      ]
    },
    {
      "cell_type": "code",
      "metadata": {
        "id": "iuXpN_JN7AYG"
      },
      "source": [
        "# use get_dummies method from pandas to identify duplicate entries"
      ],
      "execution_count": 2,
      "outputs": []
    },
    {
      "cell_type": "markdown",
      "metadata": {
        "id": "o01KVV8_F7zO"
      },
      "source": [
        "# Step - 3\n",
        "Identify the dependent and independent variables from the dataset, and store them in X and Y."
      ]
    },
    {
      "cell_type": "code",
      "metadata": {
        "id": "IEOgNKWWGKQa"
      },
      "source": [
        "# use iloc method to extract the dependent and independent variables from the dataset"
      ],
      "execution_count": 3,
      "outputs": []
    },
    {
      "cell_type": "markdown",
      "metadata": {
        "id": "KDO_-cNWGQME"
      },
      "source": [
        "# Step- 4\n",
        "Split the dataset into training and testing and store them in different variables for usage."
      ]
    },
    {
      "cell_type": "code",
      "metadata": {
        "id": "7BBN9HitGcYN"
      },
      "source": [
        "# use sklearn package and use a method called train_test_split"
      ],
      "execution_count": 4,
      "outputs": []
    },
    {
      "cell_type": "markdown",
      "metadata": {
        "id": "DKcsEZ5kGkde"
      },
      "source": [
        "# Step - 5\n",
        "\n",
        "Do standard deviation among the values of X, as the correlation is huge among the columns."
      ]
    },
    {
      "cell_type": "code",
      "metadata": {
        "id": "oJFAqfugGvKX"
      },
      "source": [
        "# use sklearn package and use a method called standardscaler"
      ],
      "execution_count": null,
      "outputs": []
    },
    {
      "cell_type": "markdown",
      "metadata": {
        "id": "gUULePulILnU"
      },
      "source": [
        "#Step - 6\n",
        "\n",
        "Create a classifier model using KNN Classification algorithm."
      ]
    },
    {
      "cell_type": "code",
      "metadata": {
        "id": "Q2yBUNlbIl2M"
      },
      "source": [
        "# use sklearn package and create a classifier using KNeighboursClassifiers method"
      ],
      "execution_count": null,
      "outputs": []
    },
    {
      "cell_type": "markdown",
      "metadata": {
        "id": "uyiz4GfLIt7f"
      },
      "source": [
        "# Step - 7\n",
        "Train the data using the classifier object."
      ]
    },
    {
      "cell_type": "code",
      "metadata": {
        "id": "gJ8wCTaXI0cl"
      },
      "source": [
        "# use fit method and train the model"
      ],
      "execution_count": null,
      "outputs": []
    },
    {
      "cell_type": "markdown",
      "metadata": {
        "id": "qZRgk9VNI5Mx"
      },
      "source": [
        "# Step - 8\n",
        "Predict the values of test data on classifier model."
      ]
    },
    {
      "cell_type": "code",
      "metadata": {
        "id": "nV6ogfIXJB5l"
      },
      "source": [
        "# use predict method and do predictions"
      ],
      "execution_count": null,
      "outputs": []
    },
    {
      "cell_type": "markdown",
      "metadata": {
        "id": "-YKojkFkJFSW"
      },
      "source": [
        "# Step - 9\n",
        "Calculate the accuracy score to understand the accuracy of the model."
      ]
    },
    {
      "cell_type": "code",
      "metadata": {
        "id": "CfCEWMY9JLMc"
      },
      "source": [
        "# use metrics of sklearn to calculate the accuracy score"
      ],
      "execution_count": null,
      "outputs": []
    },
    {
      "cell_type": "markdown",
      "metadata": {
        "id": "XkKgLja1JP7O"
      },
      "source": [
        "# Step - 10\n",
        "Build a User Interface with a simple HTML UI Interface for the end user to get the predictions done."
      ]
    },
    {
      "cell_type": "code",
      "metadata": {
        "id": "dlFRRzgzJa2v"
      },
      "source": [
        "# Use Flask framework and ngrok package to wrap the API"
      ],
      "execution_count": null,
      "outputs": []
    }
  ]
}